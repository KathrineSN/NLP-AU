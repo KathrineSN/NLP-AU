{
 "cells": [
  {
   "cell_type": "code",
   "execution_count": 1,
   "metadata": {},
   "outputs": [],
   "source": [
    "# load necessary libraries\n",
    "import os\n",
    "import json\n",
    "import loader\n",
    "\n",
    "# point to data folder\n",
    "data_path = os.path.join(\"..\", \"data\")\n",
    "corpus = loader.CorpusLoader(data_path)\n",
    "\n",
    "final_dict = corpus.show_values(data_path)\n",
    "\n",
    "# dumping json\n",
    "outfile = os.path.join(\"..\", \"out\", \"corpus.json\")\n",
    "\n",
    "json_object = json.dumps(final_dict, indent=4)\n",
    "\n",
    "# writing to sample.json\n",
    "with open(outfile, \"w\") as outfile:\n",
    "    outfile.write(json_object)\n"
   ]
  }
 ],
 "metadata": {
  "interpreter": {
   "hash": "31f2aee4e71d21fbe5cf8b01ff0e069b9275f58929596ceb00d14d90e3e16cd6"
  },
  "kernelspec": {
   "display_name": "Python 3.9.2 64-bit",
   "language": "python",
   "name": "python3"
  },
  "language_info": {
   "codemirror_mode": {
    "name": "ipython",
    "version": 3
   },
   "file_extension": ".py",
   "mimetype": "text/x-python",
   "name": "python",
   "nbconvert_exporter": "python",
   "pygments_lexer": "ipython3",
   "version": "3.9.2"
  },
  "orig_nbformat": 4
 },
 "nbformat": 4,
 "nbformat_minor": 2
}
